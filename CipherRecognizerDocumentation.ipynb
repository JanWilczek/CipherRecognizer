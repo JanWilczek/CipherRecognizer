{
 "cells": [
  {
   "cell_type": "markdown",
   "metadata": {
    "collapsed": true
   },
   "source": [
    "# CipherRecognizer\n",
    "#### Jan Jasiński & Jan Wilczek\n",
    "\n",
    "###### Technologia Mowy AGH 2017\n",
    "\n",
    "### Wstęp\n",
    "\n",
    "Celem projektu \"CipherRecognizer\" jest stworzenie prostego systemu rozpoznawania nagranych nazw cyfr zaimplementowany w języku Python.\n",
    "Link do repozytorium: https://github.com/Jasinsk/CipherRecognizer\n",
    "\n",
    "### Raport 1 (16.11.17-23.11.17)\n",
    "\n",
    "1. Założenia\n",
    "\n",
    "   Do naszego projektu wybraliśmy parametryzację MFCC sygnału mowy - do jej wyznaczania używamy biblioteki python_speech_features.\n",
    "\n",
    "   Jako klasyfikatora chcemy użyć odpowiednio wyszkolonej sieci neuronowej. Zdecydowaliśmy się na klasyfikator MLPClassifier z biblioteki sklearn.neural_network. Na jego właściwym ustawieniu opierać się będzie znaczna część procesu dopasowania modelu nauki klasyfikatora.\n",
    "   \n",
    "   Wejściem sieci neuronowej będzie superwektor o długości 13 + 13x13 = 182, złożony z uśrednionego po czasie wektora parametrów MFCC wraz z kolejnymi rzędami macierzy kowariancji ustawionymi jeden za drugim w ciąg.\n",
    "   \n",
    "1. Architektura systemu\n",
    "\n",
    "   Cały nasz projekt opiera się na klasach. Obecnie ich lista wraz z metodami wygląda następująco:\n",
    "   \n",
    "   1. `GlobalParameters` (niezaimplementowana)\n",
    "     - klasa w modelu singleton zawierająca wszystkie parametry, którymi można regulować (dostrajać) system.\n",
    "   1. `WaveFile` - klasa odpowiedzialna za odczytanie danych z pliku wave.\n",
    "    * `__init__(self, filepath)`  - konstruktor, filepath określa ścieżkę dostępu do danego pliku z nagraniem cyfry.\n",
    "    * `data(self, normalize=True)` - zwraca dane z pliku audio jako listę z wartościami typu float w zakresie <-1,1>.\n",
    "   1. `MFCCParametrizer` - klasa odpowiedzialna za parametryzację MFCC sygnału.\n",
    "    * `__init__(self,winlen=0.025,winstep=0.01,numcep=13,nfilt=26,nfft=512,preemph=0.97,ceplifter=22,               appendEnergy=True)` - konstruktor ustawiający parametry wyznaczania MFCC zgodnie z kolejnymi argumentami.\n",
    "    * `parameters(self, signal, samplerate)` - zwraca macierz wyznaczonych parametrów z podanego sygnału.\n",
    "\t* `super_vector(self, signal, samplerate)` - zwraca superwektor parametrów wyznaczonych na podstawie danego sygnału.\n",
    "   1. `ANNClassifier` - klasa będąca opakowaniem dla sieci neuronowej.\n",
    "    * `__init__(self, nb_hidden_layers, nb_neurons_in_layer, activation_function='relu', solver='lbfgs', nb_iterations=200)` - konstruktor klasyfikatora z zadanymi parametrami. W przyszłości zmienimy nieco tę implementację, żeby w każdej warstwie sieci nie było tyle samo neuronów.\n",
    "    * `train(self, training_input_data, training_output_data)` - wytrenowuje model podając kolejne wektory z wejściami i odpowiadające im wyjścia.\n",
    "    * `predict(self, test_input_data)` - oblicza logarytmiczne prawdopodobieństwa każdej klasy (w naszym przypadku jest 10 klas odpowiadających 10 cyfrom) i zwraca ich wektor.\n",
    "    \n",
    "   1. `ResultHolder` - klasa odpowiadająca za zbieranie wyników (prawdopodobieństw) w testach kros-walidacji i obliczania skuteczności dla zadanych parametrów. Rezultaty można następnie eksportować do pliku .xls.\n",
    "    * `__init__(self, classes)` - konstruktor przekazujący nazwy klas. Przekazywanym wektorem klas powinien być `ANNClassifier.MLPClassifier.classes_`.\n",
    "    * `add_result(self, prediction_vector, correct_result)` - dodaje kolejne wyniki otrzymywane w wyniku wywołania metody `predict()` klasy `ANNClassifier` i zapisuje wraz z przekazanym poprawnym wynikiem.\n",
    "    * `error_rate(self)`- oblicza procent błędów wszystkich dodanych wyników.\n",
    "    * `write_results_to_excel_file(self, filename, sheet)` - wypisuje wszystkie wyniki wraz z ich poprawnymi odpowiedziami, poprawnością (za odpowiedź uznaje się klasę z największym prawdopodobieństwem) oraz końcowy procent błędów do pliku .xls.\n",
    "    * `__is_correct(self, index)` - prywatna metoda zwracająca wartość logiczną mówiącą o tym, czy odpowiedź wyniku o podanym indeksie jest poprawna.\n",
    "  \n",
    "   1. `Recognizer` (niezaimplementowana) - główna klasa odpowiedzialna za pętle testów, zmianę parametrów itp. Jej metody nie są jeszcze sprecyzowane.\n",
    "\n",
    "   1. `ConfigurationManager` (niezaimplementowana) - klasa służąca do generowania konfiguracji w sposób deterministyczny (dla przykładu: jeśli podamy liczbę plików testowych równą 10 każde wywołanie metody `__generate_configurations` powinno wygenerować te same konfiguracje).\n",
    "    * `__init__(self, foldername)` - konstruktor z przekazywaną nazwą folderu z plikami audio.\n",
    "    * `__generate_configurations(self, nb_test_files)` - generuje konfiguracje do kros-walidacji o zadanej liczbie testów w każdym zbiorze.\n",
    "    * `nb_configurations(self)` - zwraca liczbę konfiguracji.\n",
    "    * `test_data(self, configuration_id)` - zwraca ścieżki plików wybrane do testu w konfiguracji o danym indeksie.\n",
    "    * `training_data(self, configuration_id)` - zwraca ścieżki plików wybrane do treningu w konfiguracji o danym indeksie.\n",
    "    * `output_configurations_to_file(self, filename)` - wypisuje konfiguracje do pliku.\n",
    "   \n",
    "1. Postęp prac\n",
    " \n",
    "    Udało nam się do tej pory zaimplementować wstępnie klasy ANNClassifier, MFCCParametrizer, ResultHandler i WavFile wraz z testami. Klasy te są gotowe do zastosowania we wstępnej implementacji pętli treningowo-testowej służącej do wybrania odpowiednich parametrów systemu. Największą trudnością będzie dobór wielkości i liczby warstw w sieci neuronowej, ponieważ brak nam doświadczenia w tej dziedzinie.\n",
    "\n",
    "   \n",
    "\n",
    "\n"
   ]
  }
 ],
 "metadata": {
  "kernelspec": {
   "display_name": "Python 3",
   "language": "python",
   "name": "python3"
  },
  "language_info": {
   "codemirror_mode": {
    "name": "ipython",
    "version": 3.0
   },
   "file_extension": ".py",
   "mimetype": "text/x-python",
   "name": "python",
   "nbconvert_exporter": "python",
   "pygments_lexer": "ipython3",
   "version": "3.6.3"
  }
 },
 "nbformat": 4,
 "nbformat_minor": 0
}